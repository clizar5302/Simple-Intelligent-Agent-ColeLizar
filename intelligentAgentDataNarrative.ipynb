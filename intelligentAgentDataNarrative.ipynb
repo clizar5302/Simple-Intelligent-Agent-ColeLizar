{
  "nbformat": 4,
  "nbformat_minor": 0,
  "metadata": {
    "colab": {
      "provenance": [],
      "authorship_tag": "ABX9TyOqvlZuoGzkUYXYsmiCrvzH",
      "include_colab_link": true
    },
    "kernelspec": {
      "name": "python3",
      "display_name": "Python 3"
    },
    "language_info": {
      "name": "python"
    }
  },
  "cells": [
    {
      "cell_type": "markdown",
      "metadata": {
        "id": "view-in-github",
        "colab_type": "text"
      },
      "source": [
        "<a href=\"https://colab.research.google.com/github/clizar5302/Simple-Intelligent-Agent-ColeLizar/blob/main/intelligentAgentDataNarrative.ipynb\" target=\"_parent\"><img src=\"https://colab.research.google.com/assets/colab-badge.svg\" alt=\"Open In Colab\"/></a>"
      ]
    },
    {
      "cell_type": "markdown",
      "source": [
        "Set up the Environment"
      ],
      "metadata": {
        "id": "cHfaEOSkMsg2"
      }
    },
    {
      "cell_type": "code",
      "execution_count": null,
      "metadata": {
        "id": "Wxp9IvZJMZW8"
      },
      "outputs": [],
      "source": [
        "!pip install pandas matplotlib seaborn"
      ]
    },
    {
      "cell_type": "markdown",
      "source": [
        "Load the Dataset"
      ],
      "metadata": {
        "id": "zLTfjwXQM0Fv"
      }
    },
    {
      "cell_type": "code",
      "source": [
        "import pandas as pd\n",
        "\n",
        "# UCI Iris dataset\n",
        "url = \"https://archive.ics.uci.edu/ml/machine-learning-databases/iris/iris.data\"\n",
        "columns = ['SepalLength', 'SepalWidth', 'PetalLength', 'PetalWidth', 'Species']\n",
        "iris_data = pd.read_csv(url, header=None, names=columns)\n",
        "iris_data.head()"
      ],
      "metadata": {
        "id": "uBCzdPmBMuwL"
      },
      "execution_count": null,
      "outputs": []
    },
    {
      "cell_type": "markdown",
      "source": [
        "Data Analysis"
      ],
      "metadata": {
        "id": "qq8dROzHOk6s"
      }
    },
    {
      "cell_type": "code",
      "source": [
        "summary_stats = iris_data.describe()\n",
        "mode_values = iris_data.mode().iloc[0]\n",
        "species_distribution = iris_data['Species'].value_counts()\n",
        "\n",
        "print(\"Summary Statistics:\")\n",
        "print(summary_stats)\n",
        "\n",
        "print(\"\\nMode Values:\")\n",
        "print(mode_values)\n",
        "\n",
        "print(\"\\nSpecies Distribution:\")\n",
        "print(species_distribution)"
      ],
      "metadata": {
        "id": "YnTXJK3AM2Ji"
      },
      "execution_count": null,
      "outputs": []
    },
    {
      "cell_type": "markdown",
      "source": [
        "Generate Narratives"
      ],
      "metadata": {
        "id": "vMx6aeA6Op5q"
      }
    },
    {
      "cell_type": "code",
      "source": [
        "def generate_narrative():\n",
        "    narrative = []\n",
        "    narrative.append(\"This dataset contains measurements of iris flowers across three species: Setosa, Versicolor, and Virginica.\")\n",
        "\n",
        "    for species in iris_data['Species'].unique():\n",
        "        species_data = iris_data[iris_data['Species'] == species]\n",
        "        sepal_length_mean = species_data['SepalLength'].mean()\n",
        "        sepal_width_mean = species_data['SepalWidth'].mean()\n",
        "        petal_length_mean = species_data['PetalLength'].mean()\n",
        "        petal_width_mean = species_data['PetalWidth'].mean()\n",
        "\n",
        "        narrative.append(\n",
        "            f\"The average sepal length of {species} is {sepal_length_mean:.2f} cm, \"\n",
        "            f\"the average sepal width is {sepal_width_mean:.2f} cm, \"\n",
        "            f\"the average petal length is {petal_length_mean:.2f} cm, \"\n",
        "            f\"and the average petal width is {petal_width_mean:.2f} cm.\"\n",
        "        )\n",
        "\n",
        "    return \"\\n\".join(narrative)\n",
        "\n",
        "data_narrative = generate_narrative()\n",
        "print(\"\\nGenerated Data Narrative:\")\n",
        "print(data_narrative)"
      ],
      "metadata": {
        "id": "NOkPw168Ol4j"
      },
      "execution_count": null,
      "outputs": []
    },
    {
      "cell_type": "markdown",
      "source": [
        "Visualize the Data"
      ],
      "metadata": {
        "id": "mCkupOyiOyRP"
      }
    },
    {
      "cell_type": "code",
      "source": [
        "import seaborn as sns\n",
        "import matplotlib.pyplot as plt\n",
        "\n",
        "sns.set(style=\"whitegrid\")\n",
        "\n",
        "sns.pairplot(iris_data, hue='Species', markers=[\"o\", \"s\", \"D\"])\n",
        "plt.title(\"Iris Dataset Pairplot\")\n",
        "plt.show()"
      ],
      "metadata": {
        "id": "9069z-WnOq64"
      },
      "execution_count": null,
      "outputs": []
    }
  ]
}